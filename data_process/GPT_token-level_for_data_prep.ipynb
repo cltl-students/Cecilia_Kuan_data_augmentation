{
 "cells": [
  {
   "attachments": {},
   "cell_type": "markdown",
   "metadata": {},
   "source": [
    "# GPT DATA - SENTENCE TO TOKEN PER ROW FOR GPT_data_prep_domains_anonymized.py\n",
    "\n",
    ":::::: GPT data ::::::\n",
    "- output: token-level df to mimic real data\n",
    "- output is processed in [data_process/data_process_for_ml/GPT_data_prep_domains_anonymized.py] and gets split into train/dev sets"
   ]
  },
  {
   "cell_type": "code",
   "execution_count": 1,
   "metadata": {},
   "outputs": [
    {
     "name": "stderr",
     "output_type": "stream",
     "text": [
      "2023-07-07 09:21:30.154995: I tensorflow/core/platform/cpu_feature_guard.cc:193] This TensorFlow binary is optimized with oneAPI Deep Neural Network Library (oneDNN) to use the following CPU instructions in performance-critical operations:  AVX2 AVX512F AVX512_VNNI FMA\n",
      "To enable them in other operations, rebuild TensorFlow with the appropriate compiler flags.\n"
     ]
    }
   ],
   "source": [
    "import spacy\n",
    "import pandas as pd\n",
    "import numpy as np"
   ]
  },
  {
   "cell_type": "code",
   "execution_count": 2,
   "metadata": {},
   "outputs": [],
   "source": [
    "# load spaCy\n",
    "nlp = spacy.load(\"nl_core_news_lg\")"
   ]
  },
  {
   "cell_type": "code",
   "execution_count": 8,
   "metadata": {},
   "outputs": [],
   "source": [
    "#load raw text .pkl\n",
    "df = pd.read_pickle('../../data/gpt/gpt_data_all_raw.pkl')\n",
    "\n",
    "#reset index\n",
    "df.reset_index(inplace=True, drop = True)\n",
    "\n",
    "###### set up \"label\" column ######\n",
    "df['labels_str'] = [','.join(map(str, l)) for l in df['labels']]\n",
    "\n",
    "cat_list = ['1,0,0,0,0,0,0,0,0','0,1,0,0,0,0,0,0,0','0,0,1,0,0,0,0,0,0','0,0,0,1,0,0,0,0,0','0,0,0,0,1,0,0,0,0','0,0,0,0,0,1,0,0,0','0,0,0,0,0,0,1,0,0', '0,0,0,0,0,0,0,1,0','0,0,0,0,0,0,0,0,1']\n",
    "\n",
    "# adm= '1,0,0,0,0,0,0,0,0'\n",
    "# att= '0,1,0,0,0,0,0,0,0'\n",
    "# ber= '0,0,1,0,0,0,0,0,0'\n",
    "# enr= '0,0,0,1,0,0,0,0,0'\n",
    "# etn= '0,0,0,0,1,0,0,0,0'\n",
    "# fac= '0,0,0,0,0,1,0,0,0'\n",
    "# ins= '0,0,0,0,0,0,1,0,0'\n",
    "# mbw= '0,0,0,0,0,0,0,1,0'\n",
    "# stm= '0,0,0,0,0,0,0,0,1'\n",
    "\n",
    "#df.loc[df['] == 'True', 'ADM_lvl'] = df['level']\n",
    "df.loc[df['labels_str'] == cat_list[0], 'label' ]= 'adm'\n",
    "df.loc[df['labels_str'] == cat_list[1], 'label' ]= 'att'\n",
    "df.loc[df['labels_str'] == cat_list[2], 'label' ]= 'ber'\n",
    "df.loc[df['labels_str'] == cat_list[3], 'label' ]= 'enr'\n",
    "df.loc[df['labels_str'] == cat_list[4], 'label' ]= 'etn'\n",
    "df.loc[df['labels_str'] == cat_list[5], 'label' ]= 'fac'\n",
    "df.loc[df['labels_str'] == cat_list[6], 'label' ]= 'ins'\n",
    "df.loc[df['labels_str'] == cat_list[7], 'label' ]= 'mbw'\n",
    "df.loc[df['labels_str'] == cat_list[8], 'label' ]= 'stm'\n",
    "\n",
    "df['label']=df['label']+ df['level'].astype(str)\n",
    "\n",
    "df.pop('labels_str')\n",
    "\n",
    "###### SET UP CATEGORY COLUMNS ######\n",
    "#split labels to 9 separate columns with cat as header\n",
    "df[['ADM', 'ATT', 'BER', 'ENR', 'ETN', 'FAC', 'INS', 'MBW', 'STM']]= pd.DataFrame(df.labels.tolist(), index= df.index)\n",
    "\n",
    "# set label = true, no label = false\n",
    "domains='ADM', 'ATT', 'BER', 'ENR', 'ETN', 'FAC', 'INS', 'MBW', 'STM'\n",
    "for d in domains:\n",
    "    df.loc[df[d] == 0, d] = False\n",
    "    df.loc[df[d] == 1, d] = True\n",
    "\n",
    "###### SET UP LEVEL COLUMNS ######\n",
    "# make cells = NaN\n",
    "cat = 'ADM_lvl', 'ATT_lvl', 'BER_lvl', 'ENR_lvl', 'ETN_lvl', 'FAC_lvl', 'INS_lvl', 'MBW_lvl', 'STM_lvl'\n",
    "for c in cat:\n",
    "    df[[c]] = np.NaN\n",
    "\n",
    "# insert level value from 'level'\n",
    "for idx, row in df.iterrows():  \n",
    "    df.loc[df['ADM'] == True, 'ADM_lvl'] = df['level']\n",
    "    df.loc[df['ATT'] == True, 'ATT_lvl'] = df['level']\n",
    "    df.loc[df['BER'] == True, 'BER_lvl'] = df['level']\n",
    "    df.loc[df['ENR'] == True, 'ENR_lvl'] = df['level']\n",
    "    df.loc[df['ETN'] == True, 'ETN_lvl'] = df['level']\n",
    "    df.loc[df['FAC'] == True, 'FAC_lvl'] = df['level']\n",
    "    df.loc[df['INS'] == True, 'INS_lvl'] = df['level']\n",
    "    df.loc[df['MBW'] == True, 'MBW_lvl'] = df['level']\n",
    "    df.loc[df['STM'] == True, 'STM_lvl'] = df['level']"
   ]
  },
  {
   "cell_type": "code",
   "execution_count": 9,
   "metadata": {},
   "outputs": [
    {
     "data": {
      "text/plain": [
       "['text',\n",
       " 'conf_score',\n",
       " 'labels',\n",
       " 'level',\n",
       " 'annotator',\n",
       " 'gender',\n",
       " 'age',\n",
       " 'illness',\n",
       " 'NotitieID',\n",
       " 'label',\n",
       " 'ADM',\n",
       " 'ATT',\n",
       " 'BER',\n",
       " 'ENR',\n",
       " 'ETN',\n",
       " 'FAC',\n",
       " 'INS',\n",
       " 'MBW',\n",
       " 'STM',\n",
       " 'ADM_lvl',\n",
       " 'ATT_lvl',\n",
       " 'BER_lvl',\n",
       " 'ENR_lvl',\n",
       " 'ETN_lvl',\n",
       " 'FAC_lvl',\n",
       " 'INS_lvl',\n",
       " 'MBW_lvl',\n",
       " 'STM_lvl']"
      ]
     },
     "execution_count": 9,
     "metadata": {},
     "output_type": "execute_result"
    }
   ],
   "source": [
    "df.columns.tolist()\n",
    "#['text','conf_score','labels','level','annotator','gender','age','illness','NotitieID','label',\n",
    "# 'ADM','ATT','BER','ENR','ETN','FAC','INS','MBW','STM','ADM_lvl',\n",
    "# 'ATT_lvl','BER_lvl','ENR_lvl','ETN_lvl','FAC_lvl','INS_lvl','MBW_lvl','STM_lvl']"
   ]
  },
  {
   "cell_type": "code",
   "execution_count": 10,
   "metadata": {},
   "outputs": [
    {
     "data": {
      "text/plain": [
       "text          er moet bloedglucose en insulinedosering bijge...\n",
       "conf_score                                                 0.92\n",
       "labels                              [0, 0, 0, 0, 1, 0, 0, 0, 0]\n",
       "level                                                         0\n",
       "annotator                                          verpleegster\n",
       "gender                                                      man\n",
       "age                                                       18-40\n",
       "illness                                                  kanker\n",
       "NotitieID                                                     2\n",
       "label                                                      etn0\n",
       "ADM                                                       False\n",
       "ATT                                                       False\n",
       "BER                                                       False\n",
       "ENR                                                       False\n",
       "ETN                                                        True\n",
       "FAC                                                       False\n",
       "INS                                                       False\n",
       "MBW                                                       False\n",
       "STM                                                       False\n",
       "ADM_lvl                                                     NaN\n",
       "ATT_lvl                                                     NaN\n",
       "BER_lvl                                                     NaN\n",
       "ENR_lvl                                                     NaN\n",
       "ETN_lvl                                                       0\n",
       "FAC_lvl                                                     NaN\n",
       "INS_lvl                                                     NaN\n",
       "MBW_lvl                                                     NaN\n",
       "STM_lvl                                                     NaN\n",
       "Name: 2, dtype: object"
      ]
     },
     "execution_count": 10,
     "metadata": {},
     "output_type": "execute_result"
    }
   ],
   "source": [
    "df.loc[2]"
   ]
  },
  {
   "cell_type": "code",
   "execution_count": 14,
   "metadata": {},
   "outputs": [],
   "source": [
    "df.to_pickle('../../data/gpt/gpt_data_all_raw_progress.pkl')"
   ]
  },
  {
   "cell_type": "code",
   "execution_count": 3,
   "metadata": {},
   "outputs": [],
   "source": [
    "df = pd.read_pickle('../../data/gpt/gpt_data_all_raw_progress.pkl')"
   ]
  },
  {
   "cell_type": "code",
   "execution_count": 4,
   "metadata": {},
   "outputs": [
    {
     "name": "stdout",
     "output_type": "stream",
     "text": [
      "0 length index: 54866\n",
      "0 length text: \n"
     ]
    }
   ],
   "source": [
    "###### MAKE TOKEN-LEVEL DF (new_df) AND ADD COLUMNS ######\n",
    "\n",
    "# set up column values\n",
    "#CODE ADAPTED FROM: https://stackoverflow.com/questions/71816814/split-text-into-tokens-on-different-rows-in-a-dataframe\n",
    "\n",
    "new_d = {'sen': [], 'tok' : [] , 'token': [], 'label': [], 'conf_score':[], 'NotitieID':[], 'annotator':[], 'gender':[], 'age':[], 'illness':[],\n",
    "'ADM':[], 'ATT':[], 'BER':[], 'ENR':[], 'ETN':[], 'FAC':[], 'INS':[], 'MBW':[], 'STM':[],\n",
    "'ADM_lvl':[], 'ATT_lvl':[], 'BER_lvl':[], 'ENR_lvl':[], 'ETN_lvl':[], 'FAC_lvl':[], 'INS_lvl':[], 'MBW_lvl':[], 'STM_lvl':[],\n",
    "}\n",
    "\n",
    "col = ['conf_score',\n",
    " 'annotator',\n",
    " 'gender',\n",
    " 'age',\n",
    " 'illness',\n",
    " 'NotitieID']\n",
    "\n",
    "cat_lvl = 'ADM_lvl', 'ATT_lvl', 'BER_lvl', 'ENR_lvl', 'ETN_lvl', 'FAC_lvl', 'INS_lvl', 'MBW_lvl', 'STM_lvl','ADM', 'ATT', 'BER', 'ENR', 'ETN', 'FAC', 'INS', 'MBW', 'STM'\n",
    "\n",
    "for idx, row in df.iterrows():\n",
    "    doc = nlp(row['text'])\n",
    "    \n",
    "    if len(doc) == 0:\n",
    "        print(\"0 length index:\", idx)\n",
    "        print(\"0 length text:\", row['text'])\n",
    "    \n",
    "    else:\n",
    "        new_d['token'].extend(str(i) for i in doc)\n",
    "        new_d['sen'].extend([idx + 1] * len(doc))\n",
    "        new_d['tok'].extend(i+1 for i in range(len(doc)))\n",
    "\n",
    "        for l in cat_lvl:\n",
    "            lvl = [np.NaN] * len(doc)\n",
    "            #print(\"=== lvl\", df[l].iloc[[idx]].values[0], type(df[l].iloc[[idx]].values[0]), len(doc))\n",
    "            lvl[0] =df[l].iloc[[idx]].values[0]\n",
    "            new_d[l].extend(lvl)\n",
    "        \n",
    "        lbl = ['_'] * len(doc)\n",
    "        lbl[0] = df['label'].iloc[[idx]].values[0]\n",
    "        new_d['label'].extend(lbl)\n",
    "        \n",
    "\n",
    "        for c in col:\n",
    "            new_d[c].extend([df[c].iloc[[idx]].values[0]]*len(doc))\n",
    "        \n",
    "\n",
    "new_df = pd.DataFrame(data = new_d)\n",
    "#new_df\n"
   ]
  },
  {
   "cell_type": "code",
   "execution_count": 5,
   "metadata": {},
   "outputs": [],
   "source": [
    "# COMBINE sen & tok to 'sen_tok'\n",
    "new_df['sen_tok'] = new_df['sen'].astype(str) + '_' + new_df['tok'].astype(str)\n",
    "\n",
    "# combine NOtitieID and sen to 'sen_id'\n",
    "new_df['sen_id'] = new_df['NotitieID'].astype(str) + '_' + new_df['sen'].astype(str)\n",
    "\n",
    "# add columns and give a value\n",
    "new_df['institution'] = 'gpt'\n",
    "new_df['year'] = '2023'"
   ]
  },
  {
   "cell_type": "code",
   "execution_count": 6,
   "metadata": {},
   "outputs": [],
   "source": [
    "# save pickle file\n",
    "new_df.to_pickle('../../data/gpt/gpt_data_all_for_data-prep-domains.pkl')"
   ]
  },
  {
   "cell_type": "code",
   "execution_count": 9,
   "metadata": {},
   "outputs": [
    {
     "data": {
      "text/plain": [
       "['sen',\n",
       " 'token',\n",
       " 'tok',\n",
       " 'conf_score',\n",
       " 'NotitieID',\n",
       " 'annotator',\n",
       " 'gender',\n",
       " 'age',\n",
       " 'illness',\n",
       " 'ADM',\n",
       " 'ATT',\n",
       " 'BER',\n",
       " 'ENR',\n",
       " 'ETN',\n",
       " 'FAC',\n",
       " 'INS',\n",
       " 'MBW',\n",
       " 'STM',\n",
       " 'ADM_lvl',\n",
       " 'ATT_lvl',\n",
       " 'BER_lvl',\n",
       " 'ENR_lvl',\n",
       " 'ETN_lvl',\n",
       " 'FAC_lvl',\n",
       " 'INS_lvl',\n",
       " 'MBW_lvl',\n",
       " 'STM_lvl',\n",
       " 'sen_tok',\n",
       " 'sen_id',\n",
       " 'institution',\n",
       " 'year']"
      ]
     },
     "execution_count": 9,
     "metadata": {},
     "output_type": "execute_result"
    }
   ],
   "source": [
    "new_df.columns.tolist()"
   ]
  },
  {
   "cell_type": "code",
   "execution_count": 8,
   "metadata": {},
   "outputs": [
    {
     "data": {
      "text/plain": [
       "sen                        2\n",
       "token                patiënt\n",
       "tok                        1\n",
       "conf_score               0.8\n",
       "NotitieID               5747\n",
       "annotator               arts\n",
       "gender                 vrouw\n",
       "age                    18-40\n",
       "illness        chemotherapie\n",
       "ADM                    False\n",
       "ATT                    False\n",
       "BER                    False\n",
       "ENR                    False\n",
       "ETN                    False\n",
       "FAC                    False\n",
       "INS                    False\n",
       "MBW                    False\n",
       "STM                     True\n",
       "ADM_lvl                  NaN\n",
       "ATT_lvl                  NaN\n",
       "BER_lvl                  NaN\n",
       "ENR_lvl                  NaN\n",
       "ETN_lvl                  NaN\n",
       "FAC_lvl                  NaN\n",
       "INS_lvl                  NaN\n",
       "MBW_lvl                  NaN\n",
       "STM_lvl                    1\n",
       "sen_tok                  2_1\n",
       "sen_id                5747_2\n",
       "institution              gpt\n",
       "year                    2023\n",
       "Name: 15, dtype: object"
      ]
     },
     "execution_count": 8,
     "metadata": {},
     "output_type": "execute_result"
    }
   ],
   "source": [
    "new_df.loc[15]"
   ]
  },
  {
   "cell_type": "code",
   "execution_count": 21,
   "metadata": {},
   "outputs": [
    {
     "data": {
      "text/plain": [
       "sen                        2\n",
       "token                  voelt\n",
       "tok                        2\n",
       "conf_score               0.8\n",
       "NotitieID               5747\n",
       "annotator               arts\n",
       "gender                 vrouw\n",
       "age                    18-40\n",
       "illness        chemotherapie\n",
       "ADM                      NaN\n",
       "ATT                      NaN\n",
       "BER                      NaN\n",
       "ENR                      NaN\n",
       "ETN                      NaN\n",
       "FAC                      NaN\n",
       "INS                      NaN\n",
       "MBW                      NaN\n",
       "STM                      NaN\n",
       "ADM_lvl                  NaN\n",
       "ATT_lvl                  NaN\n",
       "BER_lvl                  NaN\n",
       "ENR_lvl                  NaN\n",
       "ETN_lvl                  NaN\n",
       "FAC_lvl                  NaN\n",
       "INS_lvl                  NaN\n",
       "MBW_lvl                  NaN\n",
       "STM_lvl                  NaN\n",
       "sen_tok                  2_2\n",
       "sen_id                5747_2\n",
       "institution              gpt\n",
       "year                    2023\n",
       "Name: 16, dtype: object"
      ]
     },
     "execution_count": 21,
     "metadata": {},
     "output_type": "execute_result"
    }
   ],
   "source": [
    "new_df.loc[16]"
   ]
  },
  {
   "cell_type": "code",
   "execution_count": 13,
   "metadata": {},
   "outputs": [
    {
     "data": {
      "text/plain": [
       "['sen',\n",
       " 'token',\n",
       " 'tok',\n",
       " 'conf_score',\n",
       " 'NotitieID',\n",
       " 'annotator',\n",
       " 'gender',\n",
       " 'age',\n",
       " 'illness',\n",
       " 'ADM',\n",
       " 'ATT',\n",
       " 'BER',\n",
       " 'ENR',\n",
       " 'ETN',\n",
       " 'FAC',\n",
       " 'INS',\n",
       " 'MBW',\n",
       " 'STM',\n",
       " 'ADM_lvl',\n",
       " 'ATT_lvl',\n",
       " 'BER_lvl',\n",
       " 'ENR_lvl',\n",
       " 'ETN_lvl',\n",
       " 'FAC_lvl',\n",
       " 'INS_lvl',\n",
       " 'MBW_lvl',\n",
       " 'STM_lvl',\n",
       " 'sen_tok',\n",
       " 'sen_id',\n",
       " 'institution',\n",
       " 'year']"
      ]
     },
     "execution_count": 13,
     "metadata": {},
     "output_type": "execute_result"
    }
   ],
   "source": [
    "new_df.columns.tolist()"
   ]
  },
  {
   "cell_type": "code",
   "execution_count": 15,
   "metadata": {},
   "outputs": [
    {
     "data": {
      "text/plain": [
       "'patiënt heeft verminderde spiermassa.'"
      ]
     },
     "execution_count": 15,
     "metadata": {},
     "output_type": "execute_result"
    }
   ],
   "source": [
    "test = 'patiënt heeft verminderde spiermassa.'\n",
    "doc  =nlp(test)\n",
    "str(doc)"
   ]
  }
 ],
 "metadata": {
  "kernelspec": {
   "display_name": "base",
   "language": "python",
   "name": "python3"
  },
  "language_info": {
   "codemirror_mode": {
    "name": "ipython",
    "version": 3
   },
   "file_extension": ".py",
   "mimetype": "text/x-python",
   "name": "python",
   "nbconvert_exporter": "python",
   "pygments_lexer": "ipython3",
   "version": "3.9.12"
  },
  "orig_nbformat": 4
 },
 "nbformat": 4,
 "nbformat_minor": 2
}
