{
 "cells": [
  {
   "cell_type": "markdown",
   "metadata": {},
   "source": [
    "## Mean and Standard Deviation of a data set"
   ]
  },
  {
   "cell_type": "code",
   "execution_count": 1,
   "metadata": {},
   "outputs": [],
   "source": [
    "import pandas as pd\n",
    "import statistics"
   ]
  },
  {
   "cell_type": "code",
   "execution_count": 3,
   "metadata": {},
   "outputs": [],
   "source": [
    "### USER DEFINED VARIABLES ###\n",
    "##########################################\n",
    "gpt_data= pd.read_pickle('../data/gpt/train_gpt_anonymized.pkl')\n",
    "\n",
    "##########################################"
   ]
  },
  {
   "cell_type": "code",
   "execution_count": 4,
   "metadata": {},
   "outputs": [],
   "source": [
    "# COUNT NUM OF WDS IN A SENTENCE\n",
    "\n",
    "def average_sent_length(df, user_column):\n",
    "    lengths = []\n",
    "    for sent in df[user_column]:\n",
    "        sent = sent.split()\n",
    "        lengths.append(len(sent))\n",
    "\n",
    "    mean = round(statistics.mean(lengths), 2)\n",
    "    std = round(statistics.stdev(lengths), 2)\n",
    "    \n",
    "    print(\"mean - num of words per sentence :\", mean)\n",
    "    print(\"standard deviation:\", std)"
   ]
  },
  {
   "cell_type": "code",
   "execution_count": 5,
   "metadata": {},
   "outputs": [
    {
     "name": "stdout",
     "output_type": "stream",
     "text": [
      "mean - num of words per sentence : 12.77\n",
      "standard deviation: 4.84\n"
     ]
    }
   ],
   "source": [
    "user_column = 'text'\n",
    "average_sent_length(gpt_data, user_column)"
   ]
  }
 ],
 "metadata": {
  "kernelspec": {
   "display_name": "Python 3 (ipykernel)",
   "language": "python",
   "name": "python3"
  },
  "language_info": {
   "codemirror_mode": {
    "name": "ipython",
    "version": 3
   },
   "file_extension": ".py",
   "mimetype": "text/x-python",
   "name": "python",
   "nbconvert_exporter": "python",
   "pygments_lexer": "ipython3",
   "version": "3.10.9"
  }
 },
 "nbformat": 4,
 "nbformat_minor": 2
}
