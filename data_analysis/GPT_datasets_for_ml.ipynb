{
 "cells": [
  {
   "cell_type": "markdown",
   "metadata": {},
   "source": [
    "====== code adapted and modified from 'datasets_for_ml.ipynb' of A-PROOF repository https://github.com/cltl/a-proof-zonmw ======"
   ]
  },
  {
   "cell_type": "markdown",
   "metadata": {},
   "source": [
    "# Statistics of the GPT data sets (Train / Dev sets) that are used for fine-tuning"
   ]
  },
  {
   "cell_type": "code",
   "execution_count": 11,
   "metadata": {},
   "outputs": [],
   "source": [
    "import pandas as pd\n",
    "import numpy as np\n",
    "\n",
    "import sys\n",
    "sys.path.insert(0, '../')\n",
    "from utils.config import PATHS\n",
    "from utils.latex import show_latex, TABLES\n",
    "\n",
    "import matplotlib.pyplot as plt"
   ]
  },
  {
   "cell_type": "code",
   "execution_count": 2,
   "metadata": {},
   "outputs": [],
   "source": [
    "domains=['ADM', 'ATT', 'BER', 'ENR', 'ETN', 'FAC', 'INS', 'MBW', 'STM']"
   ]
  },
  {
   "cell_type": "markdown",
   "metadata": {},
   "source": [
    "## Load data"
   ]
  },
  {
   "cell_type": "code",
   "execution_count": 3,
   "metadata": {},
   "outputs": [],
   "source": [
    "train = pd.read_pickle('../data/gpt/train_gpt_anonymized.pkl')\n",
    "dev = pd.read_pickle('../data/gpt/dev_gpt_anonymized.pkl')"
   ]
  },
  {
   "cell_type": "markdown",
   "metadata": {},
   "source": [
    "## Check correct split\n",
    "\n",
    "i.e. there are no notes that appear in more than one set"
   ]
  },
  {
   "cell_type": "code",
   "execution_count": 4,
   "metadata": {},
   "outputs": [
    {
     "name": "stdout",
     "output_type": "stream",
     "text": [
      "False\n",
      "False\n",
      "False\n"
     ]
    }
   ],
   "source": [
    "# print(test.NotitieID.isin(train.NotitieID).any())\n",
    "# print(dev.NotitieID.isin(train.NotitieID).any())\n",
    "# print(dev.NotitieID.isin(test.NotitieID).any())"
   ]
  },
  {
   "cell_type": "code",
   "execution_count": 7,
   "metadata": {},
   "outputs": [],
   "source": [
    "csv_filepath = '/home/cecilia.kuan@mydre.org/Desktop/j_train_text.csv'\n",
    "train['text'].to_csv (csv_filepath, index=False, header=False)"
   ]
  },
  {
   "cell_type": "markdown",
   "metadata": {},
   "source": [
    "## Number of sentences per class in each data set\n",
    "\n",
    "- A sentence can contain more than one domain and therefore be counted more than once.\n",
    "- The last column is the total number of sentences in the dataset (incl. all negative examples)"
   ]
  },
  {
   "cell_type": "code",
   "execution_count": 4,
   "metadata": {},
   "outputs": [
    {
     "name": "stdout",
     "output_type": "stream",
     "text": [
      "           ADM    ATT    BER     ENR    ETN    FAC     INS    MBW    STM  \\\n",
      "dataset                                                                    \n",
      "dev        477  1,050  1,525   2,199    946  1,845   2,501  1,422  1,000   \n",
      "train    1,818  4,005  6,204   9,202  3,845  7,612   9,629  5,712  3,830   \n",
      "total    2,295  5,055  7,729  11,401  4,791  9,457  12,130  7,134  4,830   \n",
      "\n",
      "        n_sentences  \n",
      "dataset              \n",
      "dev          12,965  \n",
      "train        51,857  \n",
      "total        64,822  \n",
      "\\begin{tabular}{lllllllllll}\n",
      "\\toprule\n",
      " & ADM & ATT & BER & ENR & ETN & FAC & INS & MBW & STM & n_sentences \\\\\n",
      "dataset &  &  &  &  &  &  &  &  &  &  \\\\\n",
      "\\midrule\n",
      "dev & 477 & 1,050 & 1,525 & 2,199 & 946 & 1,845 & 2,501 & 1,422 & 1,000 & 12,965 \\\\\n",
      "train & 1,818 & 4,005 & 6,204 & 9,202 & 3,845 & 7,612 & 9,629 & 5,712 & 3,830 & 51,857 \\\\\n",
      "total & 2,295 & 5,055 & 7,729 & 11,401 & 4,791 & 9,457 & 12,130 & 7,134 & 4,830 & 64,822 \\\\\n",
      "\\bottomrule\n",
      "\\end{tabular}\n",
      "\n"
     ]
    }
   ],
   "source": [
    "caption = \"Category classification: datasets, sentence-level\" # previously mistakenly called \"Domain\"\n",
    "label = \"category_datasets_sents\"\n",
    "latex_file = ('../data/gpt_num_sent_distro.pkl')\n",
    "\n",
    "data = pd.concat([\n",
    "    train.assign(dataset = 'train'),\n",
    "    dev.assign(dataset = 'dev'),\n",
    "]) #test.assign(dataset = 'test'),\n",
    "\n",
    "balance = pd.DataFrame(\n",
    "    index = pd.MultiIndex.from_frame(data[['dataset', 'NotitieID']]),\n",
    "    columns = domains,\n",
    "    data = data.labels.to_list()\n",
    ")\n",
    "\n",
    "dataset_sizes = balance.pivot_table(\n",
    "    index='dataset',\n",
    "    aggfunc='size',\n",
    ").rename('n_sentences')\n",
    "\n",
    "piv = balance.pivot_table(\n",
    "    index='dataset',\n",
    "    aggfunc='sum',\n",
    ").join(dataset_sizes)\n",
    "piv.loc['total'] = piv.sum()\n",
    "\n",
    "t = piv.pipe(show_latex, caption=caption, label=label)\n",
    "print(t)\n",
    "\n",
    "# PRINT Latex format, save to file\n",
    "report_latex = t.to_latex()\n",
    "print(report_latex)\n",
    "\n",
    "with open(latex_file, 'w') as tf:\n",
    "     tf.write(report_latex)"
   ]
  },
  {
   "cell_type": "code",
   "execution_count": 47,
   "metadata": {},
   "outputs": [
    {
     "data": {
      "image/png": "[encoded data removed]",
      "text/plain": [
       "<Figure size 640x480 with 1 Axes>"
      ]
     },
     "metadata": {},
     "output_type": "display_data"
    }
   ],
   "source": [
    "# GRAPHICAL PRESENTATION OF DATA QUANTITY IN EACH CLASS\n",
    "\n",
    "bargraph_file = '../data/gpt/total_gpt-jenia_bar_graph.png'\n",
    "\n",
    "domains = ['ADM', 'ATT', 'BER', 'ENR', 'ETN', 'FAC', 'INS', 'MBW', 'STM']\n",
    "#num = [2295, 5055, 7729, 11401, 4791, 9457, 12130, 7134, 4830] #gpt\n",
    "#num=[6385,309,471,1218,2956,2572,2218,938,3808] #jenia labeled sentences\n",
    "num = [8680,5364,8200,12620,7747,12029,14348,8072,8638]\n",
    "\n",
    "plt.bar(domains, num, color = ['chocolate'])#'plum', 'skyblue' 'mediumpurple'\n",
    "plt.savefig(bargraph_file)\n",
    "plt.show()\n",
    "\n",
    "#num = piv['total'].T.to_list()\n",
    "# num = piv.values[2].tolist()\n",
    "# print(num)\n",
    "\n",
    "\n",
    "# bar_dict = {}\n",
    "# for d in domains:\n",
    "#     for n in num:\n",
    "#         bar_dict[d] = n\n",
    "#         num.remove(n)\n",
    "#         break\n",
    "\n",
    "\n",
    "#ax = pd.DataFrame(bar_dict).T.plot.bar(zorder=5, color = ['violet'])\n",
    "\n",
    "# fig = plt.figure()\n",
    "# #ax = fig.add_axes([0,0,1,1])\n",
    "# ax.bar(domains,num)\n",
    "# plt.show()\n",
    "\n",
    "\n",
    "# fig, ax = plt.subplots(figsize=(6, 4))\n",
    "# piv.loc[['total']].xs('n', axis=1, level=1).iloc[:,:-1].T.plot.bar(\n",
    "#     ax=ax,\n",
    "#     legend=False, \n",
    "#     grid=True, \n",
    "#     title='GPT data',\n",
    "# )"
   ]
  }
 ],
 "metadata": {
  "interpreter": {
   "hash": "5a0a696a2c4562c805ef24bd77b26c70704f51e5d276869b3745fd7123bf8c36"
  },
  "kernelspec": {
   "display_name": "Python 3 (ipykernel)",
   "language": "python",
   "name": "python3"
  },
  "language_info": {
   "codemirror_mode": {
    "name": "ipython",
    "version": 3
   },
   "file_extension": ".py",
   "mimetype": "text/x-python",
   "name": "python",
   "nbconvert_exporter": "python",
   "pygments_lexer": "ipython3",
   "version": "3.10.9"
  }
 },
 "nbformat": 4,
 "nbformat_minor": 2
}
