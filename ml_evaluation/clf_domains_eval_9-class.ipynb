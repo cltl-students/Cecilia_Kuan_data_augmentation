{
 "cells": [
  {
   "cell_type": "markdown",
   "metadata": {},
   "source": [
    "# Evaluation of domain classifiers\n",
    "## ====== 9-CLASS FORMAT ======\n",
    "\n",
    "- Multi-label classification on sentence-level;\n",
    "- Evaluation on sentence-level + aggregation on note-level;\n",
    "- Each domain is evaluated independently."
   ]
  },
  {
   "cell_type": "code",
   "execution_count": 1,
   "metadata": {},
   "outputs": [],
   "source": [
    "import pandas as pd\n",
    "from sklearn.metrics import precision_score, recall_score, f1_score, accuracy_score\n",
    "\n",
    "import sys\n",
    "sys.path.insert(0, '..')\n",
    "from utils.config import PATHS\n",
    "\n",
    "from utils.data_process import flatten_preds_if_necessary"
   ]
  },
  {
   "cell_type": "markdown",
   "metadata": {},
   "source": [
    "# Config"
   ]
  },
  {
   "cell_type": "code",
   "execution_count": 18,
   "metadata": {},
   "outputs": [],
   "source": [
    "###### USER TO UPDATE ######\n",
    "# UPDATE PREDICTION & GOLD LABEL COLUMN NAME\n",
    "\n",
    "# list of domains\n",
    "domains = ['ADM', 'ATT', 'BER', 'ENR', 'ETN', 'FAC', 'INS', 'MBW', 'STM']\n",
    "\n",
    "# filename and path to .pkl with predictions\n",
    "testpath = '../data/output/e0_output_sharona_data_all_labels.pkl'\n",
    "\n",
    "# name of column with predictions\n",
    "pred_col = 'pred_jenia'"
   ]
  },
  {
   "cell_type": "markdown",
   "metadata": {},
   "source": [
    "# Load and process data"
   ]
  },
  {
   "cell_type": "code",
   "execution_count": 20,
   "metadata": {},
   "outputs": [],
   "source": [
    "# domains column is needed for the explosion in the next cell\n",
    "df = pd.read_pickle(testpath).assign(domains = lambda df: [domains] * len(df),).rename(columns={pred_col: 'preds'})\n",
    "#.pipe(flatten_preds_if_necessary)\n",
    "\n",
    "df"
   ]
  },
  {
   "cell_type": "code",
   "execution_count": 21,
   "metadata": {},
   "outputs": [],
   "source": [
    "results = df.explode(\n",
    "    ['domains', 'labels_9', 'preds']\n",
    ")[['pad_sen_id', 'NotitieID', 'annotator', 'domains', 'labels_9', 'preds']].reset_index()"
   ]
  },
  {
   "cell_type": "markdown",
   "metadata": {},
   "source": [
    "# Sentence level evaluation"
   ]
  },
  {
   "cell_type": "markdown",
   "metadata": {},
   "source": [
    "## Precision, recall, F1-score"
   ]
  },
  {
   "cell_type": "code",
   "execution_count": 22,
   "metadata": {},
   "outputs": [
    {
     "name": "stdout",
     "output_type": "stream",
     "text": [
      "            ADM   ATT   BER   ENR   ETN   FAC   INS   MBW   STM\n",
      "precision  0.71   1.0   0.7   0.8  0.46  0.63  0.49  0.73  0.82\n",
      "recall     0.72   0.1  0.48  0.76  0.65  0.81  0.44  0.79  0.63\n",
      "f1_score   0.72  0.18  0.57  0.78  0.54  0.71  0.46  0.76  0.71\n",
      "accuracy   0.99   1.0   1.0   1.0  0.97  0.99  0.99  0.99  0.99\n",
      "support     116    10    40    68   200    63   101   161    89\n",
      "\\begin{tabular}{llllllllll}\n",
      "\\toprule\n",
      "{} &   ADM &   ATT &   BER &   ENR &   ETN &   FAC &   INS &   MBW &   STM \\\\\n",
      "\\midrule\n",
      "precision &  0.71 &   1.0 &   0.7 &   0.8 &  0.46 &  0.63 &  0.49 &  0.73 &  0.82 \\\\\n",
      "recall    &  0.72 &   0.1 &  0.48 &  0.76 &  0.65 &  0.81 &  0.44 &  0.79 &  0.63 \\\\\n",
      "f1\\_score  &  0.72 &  0.18 &  0.57 &  0.78 &  0.54 &  0.71 &  0.46 &  0.76 &  0.71 \\\\\n",
      "accuracy  &  0.99 &   1.0 &   1.0 &   1.0 &  0.97 &  0.99 &  0.99 &  0.99 &  0.99 \\\\\n",
      "support   &   116 &    10 &    40 &    68 &   200 &    63 &   101 &   161 &    89 \\\\\n",
      "\\bottomrule\n",
      "\\end{tabular}\n",
      "\n"
     ]
    },
    {
     "name": "stderr",
     "output_type": "stream",
     "text": [
      "/tmp/ipykernel_2842294/4140031961.py:19: FutureWarning: In future versions `DataFrame.to_latex` is expected to utilise the base implementation of `Styler.to_latex` for formatting and rendering. The arguments signature may therefore change. It is recommended instead to use `DataFrame.style.to_latex` which also contains additional functionality.\n",
      "  report_latex = report.to_latex()\n"
     ]
    }
   ],
   "source": [
    "def make_classreport(domain):\n",
    "    y_true = results.query(f\"domains == '{domain}'\").labels_9.astype(int)\n",
    "    y_pred = results.query(f\"domains == '{domain}'\").preds.astype(int)\n",
    "    precision = precision_score(y_true, y_pred, zero_division=0).round(2)\n",
    "    recall = recall_score(y_true, y_pred, zero_division=0).round(2)\n",
    "    accuracy = accuracy_score(y_true, y_pred).round(2)\n",
    "    f1 = f1_score(y_true, y_pred).round(2)\n",
    "    support = sum(y_true)\n",
    "    return pd.Series(\n",
    "        index = ['precision', 'recall', 'f1_score', 'accuracy', 'support'],\n",
    "        data = [precision, recall, f1, accuracy, support],\n",
    "        name = domain,\n",
    "        dtype = object,\n",
    "    )\n",
    "\n",
    "#pd.concat([make_classreport(domain) for domain in domains], axis=1)\n",
    "report = (pd.concat([make_classreport(domain) for domain in domains], axis=1))\n",
    "print(report)\n",
    "report_latex = report.to_latex()\n",
    "print(report_latex)"
   ]
  },
  {
   "cell_type": "markdown",
   "metadata": {},
   "source": [
    "## Error analysis"
   ]
  },
  {
   "cell_type": "code",
   "execution_count": 23,
   "metadata": {},
   "outputs": [],
   "source": [
    "results = results.merge(\n",
    "    df[['pad_sen_id', 'background_sent', 'target_sent']],\n",
    "    how='left',\n",
    "    on='pad_sen_id',\n",
    ").assign(\n",
    "    background = lambda df: df.background_sent | df.target_sent,\n",
    "    correct = lambda df: df.labels_9 == df.preds,\n",
    ")"
   ]
  },
  {
   "cell_type": "code",
   "execution_count": 24,
   "metadata": {},
   "outputs": [],
   "source": [
    "not_correct = results.query(\"not correct\")\n",
    "false_pos = results.query(\"not correct and labels_9 == 0\")\n",
    "false_neg = results.query(\"not correct and labels_9 == 1\")"
   ]
  },
  {
   "cell_type": "markdown",
   "metadata": {},
   "source": [
    "### Confusion matrix"
   ]
  },
  {
   "cell_type": "code",
   "execution_count": 25,
   "metadata": {},
   "outputs": [],
   "source": [
    "def find_confusion(df, domain):\n",
    "    query1 = f\"domains == '{domain}' and not correct and labels_9 == 1\"\n",
    "    query2 = f\"domains != '{domain}' and not correct and preds == 1\"\n",
    "    fneg_sents = set(df.query(query1).pad_sen_id)\n",
    "    select_sents = \"pad_sen_id in @fneg_sents\"\n",
    "    s = df.query(select_sents).query(query2).groupby('domains').size()\n",
    "    return s.rename(domain)\n",
    "\n",
    "def align_series(s, doms):\n",
    "    output = pd.Series(index=doms, name=s.name, dtype='float')\n",
    "    output.update(s)\n",
    "    return output\n",
    "\n",
    "confusions = [find_confusion(results, domain) for domain in domains]\n",
    "confusions = [align_series(s, domains) for s in confusions]"
   ]
  },
  {
   "cell_type": "code",
   "execution_count": 26,
   "metadata": {},
   "outputs": [],
   "source": [
    "def find_truepos(df, domain):\n",
    "    query = f\"domains == '{domain}' and correct and labels_9 == 1\"\n",
    "    return len(df.query(query))\n",
    "\n",
    "truepos = {domain:find_truepos(results, domain) for domain in domains}"
   ]
  },
  {
   "cell_type": "code",
   "execution_count": 27,
   "metadata": {},
   "outputs": [],
   "source": [
    "def find_fneg(df, domain):\n",
    "    query1 = f\"domains == '{domain}' and not correct and labels_9 == 1\"\n",
    "    query2 = f\"domains != '{domain}' and not correct and preds == 1\"\n",
    "\n",
    "    # false negative sentence ids of ADM\n",
    "    fneg_sents = set(df.query(query1).pad_sen_id)\n",
    "    # false positive sentence ids of domains other than ADM\n",
    "    confusions = set(df.query(query2).pad_sen_id)\n",
    "\n",
    "#     print('===fneg_sents', fneg_sents)\n",
    "#     print('===confusions', confusions)\n",
    "\n",
    "    select_sents = \"pad_sen_id in @fneg_sents\"\n",
    "    select_sents2 = \"not pad_sen_id in @confusions\"\n",
    "    \n",
    "    return df.query(select_sents).query(select_sents2).pad_sen_id.nunique()\n",
    "\n",
    "fneg = {domain:find_fneg(results, domain) for domain in domains}\n",
    "fneg = pd.Series(fneg, name='&lt;none&gt;')"
   ]
  },
  {
   "cell_type": "code",
   "execution_count": 28,
   "metadata": {},
   "outputs": [],
   "source": [
    "def find_fpos(df, domain):\n",
    "    \n",
    "    query1 = f\"domains == '{domain}' and not correct and labels_9 == 0\"\n",
    "    query2 = f\"domains != '{domain}' and correct\"\n",
    "    fneg_sents = set(df.query(query1).pad_sen_id)\n",
    "    select_sents = \"pad_sen_id in @fneg_sents\"\n",
    "    return df.query(select_sents).query(query2).pad_sen_id.nunique()\n",
    "fpos = {domain:find_fpos(results, domain) for domain in domains}\n",
    "fpos = pd.Series(fpos, name='&lt;none&gt;')"
   ]
  },
  {
   "cell_type": "code",
   "execution_count": 29,
   "metadata": {},
   "outputs": [
    {
     "name": "stdout",
     "output_type": "stream",
     "text": [
      "       ADM  ATT   BER   ENR    ETN   FAC   INS    MBW   STM  &lt;none&gt;\n",
      "ADM   84.0  NaN   NaN   NaN    1.0   NaN   2.0    NaN   NaN          34.0\n",
      "ATT    NaN  1.0   NaN   NaN    NaN   NaN   NaN    NaN   NaN           0.0\n",
      "BER    NaN  NaN  19.0   NaN    NaN   NaN   NaN    NaN   1.0           8.0\n",
      "ENR    1.0  NaN   NaN  52.0    1.0   NaN   3.0    NaN   1.0          13.0\n",
      "ETN    1.0  NaN   NaN   NaN  130.0   NaN   1.0    2.0   NaN         150.0\n",
      "FAC    1.0  NaN   NaN   NaN    NaN  51.0   1.0    NaN   1.0          30.0\n",
      "INS    NaN  NaN   NaN   NaN    NaN   1.0  44.0    1.0   NaN          46.0\n",
      "MBW    NaN  NaN   NaN   NaN    2.0   NaN   3.0  127.0   NaN          48.0\n",
      "STM    NaN  NaN   NaN   NaN    NaN   NaN   NaN    NaN  56.0          12.0\n",
      "none  29.0  9.0  21.0  16.0   67.0  11.0  48.0   31.0  31.0           NaN\n"
     ]
    }
   ],
   "source": [
    "matrix = pd.concat(confusions, axis=1).sort_index()\n",
    "for key, val in truepos.items():\n",
    "    matrix.loc[key, key] = val\n",
    "\n",
    "# print(type(matrix))\n",
    "# print(type(fneg), type(fpos))\n",
    "# #.join(fpos)\n",
    "matrix.loc['none'] = fneg\n",
    "matrix = matrix.join(fpos)\n",
    "#matrix = pd.concat([matrix,fneg],axis = 1)\n",
    "#matrix = matrix.join(fpos)\n",
    "print(matrix)\n"
   ]
  },
  {
   "cell_type": "code",
   "execution_count": 31,
   "metadata": {},
   "outputs": [
    {
     "data": {
      "text/html": [
       "<style type=\"text/css\">\n",
       "#T_7a8ce_row0_col0, #T_7a8ce_row3_col3, #T_7a8ce_row4_col4, #T_7a8ce_row4_col9, #T_7a8ce_row5_col5, #T_7a8ce_row7_col7, #T_7a8ce_row8_col8, #T_7a8ce_row9_col1, #T_7a8ce_row9_col2, #T_7a8ce_row9_col6 {\n",
       "  background-color: #084081;\n",
       "  color: #f1f1f1;\n",
       "}\n",
       "#T_7a8ce_row0_col1, #T_7a8ce_row0_col2, #T_7a8ce_row0_col3, #T_7a8ce_row0_col5, #T_7a8ce_row0_col7, #T_7a8ce_row0_col8, #T_7a8ce_row1_col0, #T_7a8ce_row1_col2, #T_7a8ce_row1_col3, #T_7a8ce_row1_col4, #T_7a8ce_row1_col5, #T_7a8ce_row1_col6, #T_7a8ce_row1_col7, #T_7a8ce_row1_col8, #T_7a8ce_row1_col9, #T_7a8ce_row2_col0, #T_7a8ce_row2_col1, #T_7a8ce_row2_col3, #T_7a8ce_row2_col4, #T_7a8ce_row2_col5, #T_7a8ce_row2_col6, #T_7a8ce_row2_col7, #T_7a8ce_row3_col1, #T_7a8ce_row3_col2, #T_7a8ce_row3_col5, #T_7a8ce_row3_col7, #T_7a8ce_row4_col1, #T_7a8ce_row4_col2, #T_7a8ce_row4_col3, #T_7a8ce_row4_col5, #T_7a8ce_row4_col8, #T_7a8ce_row5_col1, #T_7a8ce_row5_col2, #T_7a8ce_row5_col3, #T_7a8ce_row5_col4, #T_7a8ce_row5_col7, #T_7a8ce_row6_col0, #T_7a8ce_row6_col1, #T_7a8ce_row6_col2, #T_7a8ce_row6_col3, #T_7a8ce_row6_col4, #T_7a8ce_row6_col8, #T_7a8ce_row7_col0, #T_7a8ce_row7_col1, #T_7a8ce_row7_col2, #T_7a8ce_row7_col3, #T_7a8ce_row7_col5, #T_7a8ce_row7_col8, #T_7a8ce_row8_col0, #T_7a8ce_row8_col1, #T_7a8ce_row8_col2, #T_7a8ce_row8_col3, #T_7a8ce_row8_col4, #T_7a8ce_row8_col5, #T_7a8ce_row8_col6, #T_7a8ce_row8_col7, #T_7a8ce_row9_col9 {\n",
       "  background-color: #f7fcf0;\n",
       "  color: #000000;\n",
       "}\n",
       "#T_7a8ce_row0_col4, #T_7a8ce_row3_col4 {\n",
       "  background-color: #f6fcef;\n",
       "  color: #000000;\n",
       "}\n",
       "#T_7a8ce_row0_col6 {\n",
       "  background-color: #f0f9e9;\n",
       "  color: #000000;\n",
       "}\n",
       "#T_7a8ce_row0_col9 {\n",
       "  background-color: #d0ecc9;\n",
       "  color: #000000;\n",
       "}\n",
       "#T_7a8ce_row1_col1 {\n",
       "  background-color: #e3f4de;\n",
       "  color: #000000;\n",
       "}\n",
       "#T_7a8ce_row2_col2 {\n",
       "  background-color: #085ea1;\n",
       "  color: #f1f1f1;\n",
       "}\n",
       "#T_7a8ce_row2_col8, #T_7a8ce_row3_col8, #T_7a8ce_row4_col7, #T_7a8ce_row5_col8 {\n",
       "  background-color: #f4fbed;\n",
       "  color: #000000;\n",
       "}\n",
       "#T_7a8ce_row2_col9 {\n",
       "  background-color: #eef8e7;\n",
       "  color: #000000;\n",
       "}\n",
       "#T_7a8ce_row3_col0, #T_7a8ce_row4_col0, #T_7a8ce_row5_col0, #T_7a8ce_row7_col4 {\n",
       "  background-color: #f5fbee;\n",
       "  color: #000000;\n",
       "}\n",
       "#T_7a8ce_row3_col6, #T_7a8ce_row7_col6 {\n",
       "  background-color: #ebf7e5;\n",
       "  color: #000000;\n",
       "}\n",
       "#T_7a8ce_row3_col9 {\n",
       "  background-color: #e7f6e2;\n",
       "  color: #000000;\n",
       "}\n",
       "#T_7a8ce_row4_col6, #T_7a8ce_row5_col6, #T_7a8ce_row6_col5 {\n",
       "  background-color: #f3fbed;\n",
       "  color: #000000;\n",
       "}\n",
       "#T_7a8ce_row5_col9 {\n",
       "  background-color: #d4eece;\n",
       "  color: #000000;\n",
       "}\n",
       "#T_7a8ce_row6_col6 {\n",
       "  background-color: #085a9d;\n",
       "  color: #f1f1f1;\n",
       "}\n",
       "#T_7a8ce_row6_col7 {\n",
       "  background-color: #f6fbef;\n",
       "  color: #000000;\n",
       "}\n",
       "#T_7a8ce_row6_col9, #T_7a8ce_row9_col3 {\n",
       "  background-color: #bce5be;\n",
       "  color: #000000;\n",
       "}\n",
       "#T_7a8ce_row7_col9 {\n",
       "  background-color: #b9e3bc;\n",
       "  color: #000000;\n",
       "}\n",
       "#T_7a8ce_row8_col9 {\n",
       "  background-color: #e9f6e3;\n",
       "  color: #000000;\n",
       "}\n",
       "#T_7a8ce_row9_col0 {\n",
       "  background-color: #b1e0b9;\n",
       "  color: #000000;\n",
       "}\n",
       "#T_7a8ce_row9_col4 {\n",
       "  background-color: #76c9c6;\n",
       "  color: #000000;\n",
       "}\n",
       "#T_7a8ce_row9_col5 {\n",
       "  background-color: #d1edcb;\n",
       "  color: #000000;\n",
       "}\n",
       "#T_7a8ce_row9_col7 {\n",
       "  background-color: #cdebc6;\n",
       "  color: #000000;\n",
       "}\n",
       "#T_7a8ce_row9_col8 {\n",
       "  background-color: #68c1ca;\n",
       "  color: #000000;\n",
       "}\n",
       "</style>\n",
       "<table id=\"T_7a8ce\">\n",
       "  <thead>\n",
       "    <tr>\n",
       "      <th class=\"blank level0\" >&nbsp;</th>\n",
       "      <th id=\"T_7a8ce_level0_col0\" class=\"col_heading level0 col0\" >ADM</th>\n",
       "      <th id=\"T_7a8ce_level0_col1\" class=\"col_heading level0 col1\" >ATT</th>\n",
       "      <th id=\"T_7a8ce_level0_col2\" class=\"col_heading level0 col2\" >BER</th>\n",
       "      <th id=\"T_7a8ce_level0_col3\" class=\"col_heading level0 col3\" >ENR</th>\n",
       "      <th id=\"T_7a8ce_level0_col4\" class=\"col_heading level0 col4\" >ETN</th>\n",
       "      <th id=\"T_7a8ce_level0_col5\" class=\"col_heading level0 col5\" >FAC</th>\n",
       "      <th id=\"T_7a8ce_level0_col6\" class=\"col_heading level0 col6\" >INS</th>\n",
       "      <th id=\"T_7a8ce_level0_col7\" class=\"col_heading level0 col7\" >MBW</th>\n",
       "      <th id=\"T_7a8ce_level0_col8\" class=\"col_heading level0 col8\" >STM</th>\n",
       "      <th id=\"T_7a8ce_level0_col9\" class=\"col_heading level0 col9\" >&lt;none&gt;</th>\n",
       "    </tr>\n",
       "  </thead>\n",
       "  <tbody>\n",
       "    <tr>\n",
       "      <th id=\"T_7a8ce_level0_row0\" class=\"row_heading level0 row0\" >ADM</th>\n",
       "      <td id=\"T_7a8ce_row0_col0\" class=\"data row0 col0\" >84</td>\n",
       "      <td id=\"T_7a8ce_row0_col1\" class=\"data row0 col1\" >0</td>\n",
       "      <td id=\"T_7a8ce_row0_col2\" class=\"data row0 col2\" >0</td>\n",
       "      <td id=\"T_7a8ce_row0_col3\" class=\"data row0 col3\" >0</td>\n",
       "      <td id=\"T_7a8ce_row0_col4\" class=\"data row0 col4\" >1</td>\n",
       "      <td id=\"T_7a8ce_row0_col5\" class=\"data row0 col5\" >0</td>\n",
       "      <td id=\"T_7a8ce_row0_col6\" class=\"data row0 col6\" >2</td>\n",
       "      <td id=\"T_7a8ce_row0_col7\" class=\"data row0 col7\" >0</td>\n",
       "      <td id=\"T_7a8ce_row0_col8\" class=\"data row0 col8\" >0</td>\n",
       "      <td id=\"T_7a8ce_row0_col9\" class=\"data row0 col9\" >34</td>\n",
       "    </tr>\n",
       "    <tr>\n",
       "      <th id=\"T_7a8ce_level0_row1\" class=\"row_heading level0 row1\" >ATT</th>\n",
       "      <td id=\"T_7a8ce_row1_col0\" class=\"data row1 col0\" >0</td>\n",
       "      <td id=\"T_7a8ce_row1_col1\" class=\"data row1 col1\" >1</td>\n",
       "      <td id=\"T_7a8ce_row1_col2\" class=\"data row1 col2\" >0</td>\n",
       "      <td id=\"T_7a8ce_row1_col3\" class=\"data row1 col3\" >0</td>\n",
       "      <td id=\"T_7a8ce_row1_col4\" class=\"data row1 col4\" >0</td>\n",
       "      <td id=\"T_7a8ce_row1_col5\" class=\"data row1 col5\" >0</td>\n",
       "      <td id=\"T_7a8ce_row1_col6\" class=\"data row1 col6\" >0</td>\n",
       "      <td id=\"T_7a8ce_row1_col7\" class=\"data row1 col7\" >0</td>\n",
       "      <td id=\"T_7a8ce_row1_col8\" class=\"data row1 col8\" >0</td>\n",
       "      <td id=\"T_7a8ce_row1_col9\" class=\"data row1 col9\" >0</td>\n",
       "    </tr>\n",
       "    <tr>\n",
       "      <th id=\"T_7a8ce_level0_row2\" class=\"row_heading level0 row2\" >BER</th>\n",
       "      <td id=\"T_7a8ce_row2_col0\" class=\"data row2 col0\" >0</td>\n",
       "      <td id=\"T_7a8ce_row2_col1\" class=\"data row2 col1\" >0</td>\n",
       "      <td id=\"T_7a8ce_row2_col2\" class=\"data row2 col2\" >19</td>\n",
       "      <td id=\"T_7a8ce_row2_col3\" class=\"data row2 col3\" >0</td>\n",
       "      <td id=\"T_7a8ce_row2_col4\" class=\"data row2 col4\" >0</td>\n",
       "      <td id=\"T_7a8ce_row2_col5\" class=\"data row2 col5\" >0</td>\n",
       "      <td id=\"T_7a8ce_row2_col6\" class=\"data row2 col6\" >0</td>\n",
       "      <td id=\"T_7a8ce_row2_col7\" class=\"data row2 col7\" >0</td>\n",
       "      <td id=\"T_7a8ce_row2_col8\" class=\"data row2 col8\" >1</td>\n",
       "      <td id=\"T_7a8ce_row2_col9\" class=\"data row2 col9\" >8</td>\n",
       "    </tr>\n",
       "    <tr>\n",
       "      <th id=\"T_7a8ce_level0_row3\" class=\"row_heading level0 row3\" >ENR</th>\n",
       "      <td id=\"T_7a8ce_row3_col0\" class=\"data row3 col0\" >1</td>\n",
       "      <td id=\"T_7a8ce_row3_col1\" class=\"data row3 col1\" >0</td>\n",
       "      <td id=\"T_7a8ce_row3_col2\" class=\"data row3 col2\" >0</td>\n",
       "      <td id=\"T_7a8ce_row3_col3\" class=\"data row3 col3\" >52</td>\n",
       "      <td id=\"T_7a8ce_row3_col4\" class=\"data row3 col4\" >1</td>\n",
       "      <td id=\"T_7a8ce_row3_col5\" class=\"data row3 col5\" >0</td>\n",
       "      <td id=\"T_7a8ce_row3_col6\" class=\"data row3 col6\" >3</td>\n",
       "      <td id=\"T_7a8ce_row3_col7\" class=\"data row3 col7\" >0</td>\n",
       "      <td id=\"T_7a8ce_row3_col8\" class=\"data row3 col8\" >1</td>\n",
       "      <td id=\"T_7a8ce_row3_col9\" class=\"data row3 col9\" >13</td>\n",
       "    </tr>\n",
       "    <tr>\n",
       "      <th id=\"T_7a8ce_level0_row4\" class=\"row_heading level0 row4\" >ETN</th>\n",
       "      <td id=\"T_7a8ce_row4_col0\" class=\"data row4 col0\" >1</td>\n",
       "      <td id=\"T_7a8ce_row4_col1\" class=\"data row4 col1\" >0</td>\n",
       "      <td id=\"T_7a8ce_row4_col2\" class=\"data row4 col2\" >0</td>\n",
       "      <td id=\"T_7a8ce_row4_col3\" class=\"data row4 col3\" >0</td>\n",
       "      <td id=\"T_7a8ce_row4_col4\" class=\"data row4 col4\" >130</td>\n",
       "      <td id=\"T_7a8ce_row4_col5\" class=\"data row4 col5\" >0</td>\n",
       "      <td id=\"T_7a8ce_row4_col6\" class=\"data row4 col6\" >1</td>\n",
       "      <td id=\"T_7a8ce_row4_col7\" class=\"data row4 col7\" >2</td>\n",
       "      <td id=\"T_7a8ce_row4_col8\" class=\"data row4 col8\" >0</td>\n",
       "      <td id=\"T_7a8ce_row4_col9\" class=\"data row4 col9\" >150</td>\n",
       "    </tr>\n",
       "    <tr>\n",
       "      <th id=\"T_7a8ce_level0_row5\" class=\"row_heading level0 row5\" >FAC</th>\n",
       "      <td id=\"T_7a8ce_row5_col0\" class=\"data row5 col0\" >1</td>\n",
       "      <td id=\"T_7a8ce_row5_col1\" class=\"data row5 col1\" >0</td>\n",
       "      <td id=\"T_7a8ce_row5_col2\" class=\"data row5 col2\" >0</td>\n",
       "      <td id=\"T_7a8ce_row5_col3\" class=\"data row5 col3\" >0</td>\n",
       "      <td id=\"T_7a8ce_row5_col4\" class=\"data row5 col4\" >0</td>\n",
       "      <td id=\"T_7a8ce_row5_col5\" class=\"data row5 col5\" >51</td>\n",
       "      <td id=\"T_7a8ce_row5_col6\" class=\"data row5 col6\" >1</td>\n",
       "      <td id=\"T_7a8ce_row5_col7\" class=\"data row5 col7\" >0</td>\n",
       "      <td id=\"T_7a8ce_row5_col8\" class=\"data row5 col8\" >1</td>\n",
       "      <td id=\"T_7a8ce_row5_col9\" class=\"data row5 col9\" >30</td>\n",
       "    </tr>\n",
       "    <tr>\n",
       "      <th id=\"T_7a8ce_level0_row6\" class=\"row_heading level0 row6\" >INS</th>\n",
       "      <td id=\"T_7a8ce_row6_col0\" class=\"data row6 col0\" >0</td>\n",
       "      <td id=\"T_7a8ce_row6_col1\" class=\"data row6 col1\" >0</td>\n",
       "      <td id=\"T_7a8ce_row6_col2\" class=\"data row6 col2\" >0</td>\n",
       "      <td id=\"T_7a8ce_row6_col3\" class=\"data row6 col3\" >0</td>\n",
       "      <td id=\"T_7a8ce_row6_col4\" class=\"data row6 col4\" >0</td>\n",
       "      <td id=\"T_7a8ce_row6_col5\" class=\"data row6 col5\" >1</td>\n",
       "      <td id=\"T_7a8ce_row6_col6\" class=\"data row6 col6\" >44</td>\n",
       "      <td id=\"T_7a8ce_row6_col7\" class=\"data row6 col7\" >1</td>\n",
       "      <td id=\"T_7a8ce_row6_col8\" class=\"data row6 col8\" >0</td>\n",
       "      <td id=\"T_7a8ce_row6_col9\" class=\"data row6 col9\" >46</td>\n",
       "    </tr>\n",
       "    <tr>\n",
       "      <th id=\"T_7a8ce_level0_row7\" class=\"row_heading level0 row7\" >MBW</th>\n",
       "      <td id=\"T_7a8ce_row7_col0\" class=\"data row7 col0\" >0</td>\n",
       "      <td id=\"T_7a8ce_row7_col1\" class=\"data row7 col1\" >0</td>\n",
       "      <td id=\"T_7a8ce_row7_col2\" class=\"data row7 col2\" >0</td>\n",
       "      <td id=\"T_7a8ce_row7_col3\" class=\"data row7 col3\" >0</td>\n",
       "      <td id=\"T_7a8ce_row7_col4\" class=\"data row7 col4\" >2</td>\n",
       "      <td id=\"T_7a8ce_row7_col5\" class=\"data row7 col5\" >0</td>\n",
       "      <td id=\"T_7a8ce_row7_col6\" class=\"data row7 col6\" >3</td>\n",
       "      <td id=\"T_7a8ce_row7_col7\" class=\"data row7 col7\" >127</td>\n",
       "      <td id=\"T_7a8ce_row7_col8\" class=\"data row7 col8\" >0</td>\n",
       "      <td id=\"T_7a8ce_row7_col9\" class=\"data row7 col9\" >48</td>\n",
       "    </tr>\n",
       "    <tr>\n",
       "      <th id=\"T_7a8ce_level0_row8\" class=\"row_heading level0 row8\" >STM</th>\n",
       "      <td id=\"T_7a8ce_row8_col0\" class=\"data row8 col0\" >0</td>\n",
       "      <td id=\"T_7a8ce_row8_col1\" class=\"data row8 col1\" >0</td>\n",
       "      <td id=\"T_7a8ce_row8_col2\" class=\"data row8 col2\" >0</td>\n",
       "      <td id=\"T_7a8ce_row8_col3\" class=\"data row8 col3\" >0</td>\n",
       "      <td id=\"T_7a8ce_row8_col4\" class=\"data row8 col4\" >0</td>\n",
       "      <td id=\"T_7a8ce_row8_col5\" class=\"data row8 col5\" >0</td>\n",
       "      <td id=\"T_7a8ce_row8_col6\" class=\"data row8 col6\" >0</td>\n",
       "      <td id=\"T_7a8ce_row8_col7\" class=\"data row8 col7\" >0</td>\n",
       "      <td id=\"T_7a8ce_row8_col8\" class=\"data row8 col8\" >56</td>\n",
       "      <td id=\"T_7a8ce_row8_col9\" class=\"data row8 col9\" >12</td>\n",
       "    </tr>\n",
       "    <tr>\n",
       "      <th id=\"T_7a8ce_level0_row9\" class=\"row_heading level0 row9\" >none</th>\n",
       "      <td id=\"T_7a8ce_row9_col0\" class=\"data row9 col0\" >29</td>\n",
       "      <td id=\"T_7a8ce_row9_col1\" class=\"data row9 col1\" >9</td>\n",
       "      <td id=\"T_7a8ce_row9_col2\" class=\"data row9 col2\" >21</td>\n",
       "      <td id=\"T_7a8ce_row9_col3\" class=\"data row9 col3\" >16</td>\n",
       "      <td id=\"T_7a8ce_row9_col4\" class=\"data row9 col4\" >67</td>\n",
       "      <td id=\"T_7a8ce_row9_col5\" class=\"data row9 col5\" >11</td>\n",
       "      <td id=\"T_7a8ce_row9_col6\" class=\"data row9 col6\" >48</td>\n",
       "      <td id=\"T_7a8ce_row9_col7\" class=\"data row9 col7\" >31</td>\n",
       "      <td id=\"T_7a8ce_row9_col8\" class=\"data row9 col8\" >31</td>\n",
       "      <td id=\"T_7a8ce_row9_col9\" class=\"data row9 col9\" >0</td>\n",
       "    </tr>\n",
       "  </tbody>\n",
       "</table>\n"
      ],
      "text/plain": [
       "<pandas.io.formats.style.Styler at 0x7f644caa5a80>"
      ]
     },
     "execution_count": 31,
     "metadata": {},
     "output_type": "execute_result"
    }
   ],
   "source": [
    "matrix.fillna(0).astype(int).style.background_gradient(cmap='GnBu')"
   ]
  },
  {
   "cell_type": "code",
   "execution_count": 79,
   "metadata": {},
   "outputs": [
    {
     "name": "stdout",
     "output_type": "stream",
     "text": [
      "399996679_0072\n"
     ]
    }
   ],
   "source": [
    "# example\n",
    "\n",
    "domain = 'BER'\n",
    "q = f\"domains == '{domain}'\"\n",
    "false_neg_dom = false_neg.query(q).pad_sen_id.unique()\n",
    "domain = 'INS'\n",
    "q = f\"domains == '{domain}'\"\n",
    "false_pos_dom = false_pos.query(q).pad_sen_id.unique()\n",
    "\n",
    "for pad_sen_id in false_pos_dom:\n",
    "    if pad_sen_id in false_neg_dom:\n",
    "        print(pad_sen_id)"
   ]
  },
  {
   "cell_type": "code",
   "execution_count": 80,
   "metadata": {},
   "outputs": [
    {
     "data": {
      "text/html": [
       "<div>\n",
       "<style scoped>\n",
       "    .dataframe tbody tr th:only-of-type {\n",
       "        vertical-align: middle;\n",
       "    }\n",
       "\n",
       "    .dataframe tbody tr th {\n",
       "        vertical-align: top;\n",
       "    }\n",
       "\n",
       "    .dataframe thead th {\n",
       "        text-align: right;\n",
       "    }\n",
       "</style>\n",
       "<table border=\"1\" class=\"dataframe\">\n",
       "  <thead>\n",
       "    <tr style=\"text-align: right;\">\n",
       "      <th></th>\n",
       "      <th>pad_sen_id</th>\n",
       "      <th>text</th>\n",
       "      <th>labels</th>\n",
       "      <th>preds</th>\n",
       "    </tr>\n",
       "  </thead>\n",
       "  <tbody>\n",
       "    <tr>\n",
       "      <th>13606</th>\n",
       "      <td>399996679_0072</td>\n",
       "      <td>In het dagelijks leven gaat het redelijk , kan een trap oplopen , helpt haar dochter in de groothandel naar kunnen .</td>\n",
       "      <td>[0, 0, 1, 0, 0, 1, 0, 0, 0]</td>\n",
       "      <td>[0, 0, 0, 0, 0, 1, 1, 0, 0]</td>\n",
       "    </tr>\n",
       "  </tbody>\n",
       "</table>\n",
       "</div>"
      ],
      "text/plain": [
       "           pad_sen_id  \\\n",
       "13606  399996679_0072   \n",
       "\n",
       "                                                                                                                       text  \\\n",
       "13606  In het dagelijks leven gaat het redelijk , kan een trap oplopen , helpt haar dochter in de groothandel naar kunnen .   \n",
       "\n",
       "                            labels                        preds  \n",
       "13606  [0, 0, 1, 0, 0, 1, 0, 0, 0]  [0, 0, 0, 0, 0, 1, 1, 0, 0]  "
      ]
     },
     "execution_count": 80,
     "metadata": {},
     "output_type": "execute_result"
    }
   ],
   "source": [
    "sents = ['399996679_0072']\n",
    "df.query(f\"pad_sen_id == @sents\")[['pad_sen_id', 'text', 'labels', 'preds']]"
   ]
  },
  {
   "cell_type": "markdown",
   "metadata": {},
   "source": [
    "### False positives"
   ]
  },
  {
   "cell_type": "code",
   "execution_count": 76,
   "metadata": {},
   "outputs": [
    {
     "data": {
      "text/html": [
       "<div>\n",
       "<style scoped>\n",
       "    .dataframe tbody tr th:only-of-type {\n",
       "        vertical-align: middle;\n",
       "    }\n",
       "\n",
       "    .dataframe tbody tr th {\n",
       "        vertical-align: top;\n",
       "    }\n",
       "\n",
       "    .dataframe thead th {\n",
       "        text-align: right;\n",
       "    }\n",
       "</style>\n",
       "<table border=\"1\" class=\"dataframe\">\n",
       "  <thead>\n",
       "    <tr style=\"text-align: right;\">\n",
       "      <th></th>\n",
       "      <th>pad_sen_id</th>\n",
       "      <th>text</th>\n",
       "      <th>labels</th>\n",
       "      <th>preds</th>\n",
       "    </tr>\n",
       "  </thead>\n",
       "  <tbody>\n",
       "    <tr>\n",
       "      <th>30854</th>\n",
       "      <td>444008207_0025</td>\n",
       "      <td>Bij psychiatrisch onderzoek is er sprake van een geagiteerd angstig-depressief toestandsbeeld met suicidaliteit , geen psychose .</td>\n",
       "      <td>[0, 0, 0, 0, 0, 0, 0, 0, 0]</td>\n",
       "      <td>[0, 0, 0, 0, 0, 0, 0, 0, 1]</td>\n",
       "    </tr>\n",
       "  </tbody>\n",
       "</table>\n",
       "</div>"
      ],
      "text/plain": [
       "           pad_sen_id  \\\n",
       "30854  444008207_0025   \n",
       "\n",
       "                                                                                                                                    text  \\\n",
       "30854  Bij psychiatrisch onderzoek is er sprake van een geagiteerd angstig-depressief toestandsbeeld met suicidaliteit , geen psychose .   \n",
       "\n",
       "                            labels                        preds  \n",
       "30854  [0, 0, 0, 0, 0, 0, 0, 0, 0]  [0, 0, 0, 0, 0, 0, 0, 0, 1]  "
      ]
     },
     "execution_count": 76,
     "metadata": {},
     "output_type": "execute_result"
    }
   ],
   "source": [
    "# random example\n",
    "\n",
    "domain = 'STM'\n",
    "q = f\"domains == '{domain}'\"\n",
    "example = false_pos.query(q).pad_sen_id.sample(1)\n",
    "df.query(f\"pad_sen_id == '{example.iloc[0]}'\")[['pad_sen_id', 'text', 'labels', 'preds']]"
   ]
  },
  {
   "cell_type": "markdown",
   "metadata": {},
   "source": [
    "### False negatives"
   ]
  },
  {
   "cell_type": "code",
   "execution_count": 61,
   "metadata": {},
   "outputs": [
    {
     "data": {
      "text/html": [
       "<div>\n",
       "<style scoped>\n",
       "    .dataframe tbody tr th:only-of-type {\n",
       "        vertical-align: middle;\n",
       "    }\n",
       "\n",
       "    .dataframe tbody tr th {\n",
       "        vertical-align: top;\n",
       "    }\n",
       "\n",
       "    .dataframe thead th {\n",
       "        text-align: right;\n",
       "    }\n",
       "</style>\n",
       "<table border=\"1\" class=\"dataframe\">\n",
       "  <thead>\n",
       "    <tr style=\"text-align: right;\">\n",
       "      <th></th>\n",
       "      <th>pad_sen_id</th>\n",
       "      <th>text</th>\n",
       "      <th>labels</th>\n",
       "      <th>preds</th>\n",
       "    </tr>\n",
       "  </thead>\n",
       "  <tbody>\n",
       "    <tr>\n",
       "      <th>192672</th>\n",
       "      <td>408924107_0038</td>\n",
       "      <td>Emotineel laag belastbaar en onzeker tijdens mobiliseren .</td>\n",
       "      <td>[0, 0, 0, 0, 0, 0, 0, 0, 1]</td>\n",
       "      <td>[0, 0, 0, 0, 0, 0, 0, 0, 0]</td>\n",
       "    </tr>\n",
       "  </tbody>\n",
       "</table>\n",
       "</div>"
      ],
      "text/plain": [
       "            pad_sen_id  \\\n",
       "192672  408924107_0038   \n",
       "\n",
       "                                                              text  \\\n",
       "192672  Emotineel laag belastbaar en onzeker tijdens mobiliseren .   \n",
       "\n",
       "                             labels                        preds  \n",
       "192672  [0, 0, 0, 0, 0, 0, 0, 0, 1]  [0, 0, 0, 0, 0, 0, 0, 0, 0]  "
      ]
     },
     "execution_count": 61,
     "metadata": {},
     "output_type": "execute_result"
    }
   ],
   "source": [
    "# random example\n",
    "\n",
    "domain = 'STM'\n",
    "q = f\"domains == '{domain}'\"\n",
    "example = false_neg.query(q).pad_sen_id.sample(1)\n",
    "df.query(f\"pad_sen_id == '{example.iloc[0]}'\")[['pad_sen_id', 'text', 'labels', 'preds']]"
   ]
  },
  {
   "cell_type": "markdown",
   "metadata": {},
   "source": [
    "# Note level evaluation"
   ]
  },
  {
   "cell_type": "code",
   "execution_count": 33,
   "metadata": {},
   "outputs": [],
   "source": [
    "notes = results.astype({\n",
    "    'labels': bool, 'preds': bool\n",
    "}).groupby([\n",
    "    'NotitieID', 'domains',\n",
    "])[['labels', 'preds']].any().assign(\n",
    "    correct = lambda df: df.labels == df.preds,\n",
    ").reset_index(level=1)"
   ]
  },
  {
   "cell_type": "markdown",
   "metadata": {},
   "source": [
    "## Precision, recall, F1-score"
   ]
  },
  {
   "cell_type": "code",
   "execution_count": 34,
   "metadata": {},
   "outputs": [
    {
     "data": {
      "text/html": [
       "<div>\n",
       "<style scoped>\n",
       "    .dataframe tbody tr th:only-of-type {\n",
       "        vertical-align: middle;\n",
       "    }\n",
       "\n",
       "    .dataframe tbody tr th {\n",
       "        vertical-align: top;\n",
       "    }\n",
       "\n",
       "    .dataframe thead th {\n",
       "        text-align: right;\n",
       "    }\n",
       "</style>\n",
       "<table border=\"1\" class=\"dataframe\">\n",
       "  <thead>\n",
       "    <tr style=\"text-align: right;\">\n",
       "      <th></th>\n",
       "      <th>ADM</th>\n",
       "      <th>ATT</th>\n",
       "      <th>BER</th>\n",
       "      <th>ENR</th>\n",
       "      <th>ETN</th>\n",
       "      <th>FAC</th>\n",
       "      <th>INS</th>\n",
       "      <th>MBW</th>\n",
       "      <th>STM</th>\n",
       "    </tr>\n",
       "  </thead>\n",
       "  <tbody>\n",
       "    <tr>\n",
       "      <th>precision</th>\n",
       "      <td>0.72</td>\n",
       "      <td>0.18</td>\n",
       "      <td>0.12</td>\n",
       "      <td>0.43</td>\n",
       "      <td>0.57</td>\n",
       "      <td>0.49</td>\n",
       "      <td>0.6</td>\n",
       "      <td>0.19</td>\n",
       "      <td>0.51</td>\n",
       "    </tr>\n",
       "    <tr>\n",
       "      <th>recall</th>\n",
       "      <td>0.99</td>\n",
       "      <td>0.81</td>\n",
       "      <td>1.0</td>\n",
       "      <td>0.86</td>\n",
       "      <td>0.98</td>\n",
       "      <td>0.91</td>\n",
       "      <td>0.76</td>\n",
       "      <td>0.98</td>\n",
       "      <td>0.89</td>\n",
       "    </tr>\n",
       "    <tr>\n",
       "      <th>f1_score</th>\n",
       "      <td>0.83</td>\n",
       "      <td>0.29</td>\n",
       "      <td>0.22</td>\n",
       "      <td>0.57</td>\n",
       "      <td>0.72</td>\n",
       "      <td>0.63</td>\n",
       "      <td>0.67</td>\n",
       "      <td>0.31</td>\n",
       "      <td>0.65</td>\n",
       "    </tr>\n",
       "    <tr>\n",
       "      <th>support</th>\n",
       "      <td>231</td>\n",
       "      <td>27</td>\n",
       "      <td>34</td>\n",
       "      <td>92</td>\n",
       "      <td>165</td>\n",
       "      <td>95</td>\n",
       "      <td>116</td>\n",
       "      <td>64</td>\n",
       "      <td>94</td>\n",
       "    </tr>\n",
       "  </tbody>\n",
       "</table>\n",
       "</div>"
      ],
      "text/plain": [
       "            ADM   ATT   BER   ENR   ETN   FAC   INS   MBW   STM\n",
       "precision  0.72  0.18  0.12  0.43  0.57  0.49   0.6  0.19  0.51\n",
       "recall     0.99  0.81   1.0  0.86  0.98  0.91  0.76  0.98  0.89\n",
       "f1_score   0.83  0.29  0.22  0.57  0.72  0.63  0.67  0.31  0.65\n",
       "support     231    27    34    92   165    95   116    64    94"
      ]
     },
     "execution_count": 34,
     "metadata": {},
     "output_type": "execute_result"
    }
   ],
   "source": [
    "def make_classreport(domain):\n",
    "    y_true = notes.query(f\"domains == '{domain}'\").labels.astype(int)\n",
    "    y_pred = notes.query(f\"domains == '{domain}'\").preds.astype(int)\n",
    "    precision = precision_score(y_true, y_pred, zero_division=0).round(2)\n",
    "    recall = recall_score(y_true, y_pred, zero_division=0).round(2)\n",
    "    f1 = f1_score(y_true, y_pred).round(2)\n",
    "    support = sum(y_true)\n",
    "    return pd.Series(\n",
    "        index = ['precision', 'recall', 'f1_score', 'support'],\n",
    "        data = [precision, recall, f1, support],\n",
    "        name = domain,\n",
    "        dtype = object,\n",
    "    )\n",
    "\n",
    "pd.concat([make_classreport(domain) for domain in domains], axis=1)"
   ]
  }
 ],
 "metadata": {
  "interpreter": {
   "hash": "5a0a696a2c4562c805ef24bd77b26c70704f51e5d276869b3745fd7123bf8c36"
  },
  "kernelspec": {
   "display_name": "Python 3 (ipykernel)",
   "language": "python",
   "name": "python3"
  },
  "language_info": {
   "codemirror_mode": {
    "name": "ipython",
    "version": 3
   },
   "file_extension": ".py",
   "mimetype": "text/x-python",
   "name": "python",
   "nbconvert_exporter": "python",
   "pygments_lexer": "ipython3",
   "version": "3.10.6"
  }
 },
 "nbformat": 4,
 "nbformat_minor": 2
}
